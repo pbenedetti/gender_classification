{
 "cells": [
  {
   "cell_type": "code",
   "execution_count": null,
   "metadata": {},
   "outputs": [],
   "source": [
    "import os\n",
    "\n",
    "info = {}\n",
    "count = 0\n",
    "\n",
    "MAX_LENGTH = 0\n",
    "MIN_LENGTH = 1000\n",
    "#print( \"samples:\", len(samples), \"\\nsampling rate: \",sampling_rate, \"\\nduration od sound: \", duration_of_sound ,\" seconds\")\n",
    "with open(\"LibriSpeech/SPEAKERS.TXT\", \"r\") as s:\n",
    "    for el in s:\n",
    "        if \"|\" in el and count!=0:\n",
    "            tmp = el.split(\"|\")\n",
    "            #print(tmp,\"\\n\")\n",
    "            if \"dev-clean\" in tmp[2]:\n",
    "                info[tmp[0].strip()] = tmp[1].strip()\n",
    "\n",
    "                if float(tmp[3].strip())>MAX_LENGTH:\n",
    "                    MAX_LENGTH = float(tmp[3].strip())\n",
    "                if float(tmp[3].strip())<MIN_LENGTH:\n",
    "                    MIN_LENGTH = float(tmp[3].strip())\n",
    "\n",
    "        count = count+1\n",
    "\n",
    "s.close()\n",
    "print(info)\n",
    "\n",
    "gender = \"_\"\n",
    "with open(\"PATH.txt\",\"w\") as f:\n",
    "    files_and_directories = os.listdir(\"./LibriSpeech/dev-clean\")\n",
    "    for el in files_and_directories:\n",
    "        gender = info[el]\n",
    "        if el != \".DS_Store\":\n",
    "            tmp = os.listdir(\"./LibriSpeech/dev-clean/\"+el)\n",
    "            for elel in tmp:\n",
    "                if elel != \".DS_Store\":\n",
    "                    aux = os.listdir(\"./LibriSpeech/dev-clean/\"+el+\"/\"+elel)\n",
    "                    for elelel in aux:\n",
    "                        if elelel!=\".DS_Store\":\n",
    "                                f.write(\"./LibriSpeech/dev-clean/\"+el+\"/\"+elel+\"/\"+elelel+\"\\t\"+gender+\"\\n\")\n",
    "    f.write(\"MIN_LENGTH: \" + str(MIN_LENGTH)+\"\\n\")\n",
    "    f.write(\"MAX_LENGTH: \" + str(MAX_LENGTH))\n",
    "f.close()\n"
   ]
  }
 ],
 "metadata": {
  "kernelspec": {
   "display_name": "Python 3",
   "language": "python",
   "name": "python3"
  },
  "language_info": {
   "codemirror_mode": {
    "name": "ipython",
    "version": 3
   },
   "file_extension": ".py",
   "mimetype": "text/x-python",
   "name": "python",
   "nbconvert_exporter": "python",
   "pygments_lexer": "ipython3",
   "version": "3.7.9"
  }
 },
 "nbformat": 4,
 "nbformat_minor": 4
}
